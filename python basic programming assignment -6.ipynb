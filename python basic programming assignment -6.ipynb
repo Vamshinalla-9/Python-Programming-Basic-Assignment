{
 "cells": [
  {
   "cell_type": "markdown",
   "id": "b141d762",
   "metadata": {},
   "source": [
    "## 1.\tWrite a Python Program to Display Fibonacci Sequence Using Recursion?\n"
   ]
  },
  {
   "cell_type": "markdown",
   "id": "de5b0f64",
   "metadata": {},
   "source": [
    "### Recursion : \n",
    " Recursion is the process repeat or calling the function within the function is called recursion. An empty function can be  repeated with some limit near to thousand.Basically the recursion is like poping the result from stack in technical terms to get the desired output from the stack \n",
    " \n",
    " lets understand these with the simple example:\n",
    "       russian doll toy  is the best example: when we see the russian doll inside multiple dolls at last there we find the        little toy that is overall result we need.\n"
   ]
  },
  {
   "cell_type": "code",
   "execution_count": 1,
   "id": "2fec28b5",
   "metadata": {},
   "outputs": [],
   "source": [
    "# example1 \n",
    "## Let's consider the fifth doll consist of result DOLL.so inorder to that we have to open upto fifth doll\n",
    "def fun1():\n",
    "    print(\"this is the first doll,OPENING THE SECOND DOLL fun2\")\n",
    "    fun2()\n",
    "    print(\"the closing of first doll\")\n",
    "def fun2(): #SECOND DOLL\n",
    "    print(\"this is second doll, OPENING THE THIRD DOLL fun3\")\n",
    "    fun3()\n",
    "    print(\"the closing the second doll\")\n",
    "def fun3(): # THIRD DOLL\n",
    "    print(\"this is third doll, OPENING THE FOURTH DOLL fun4\")\n",
    "    fun4()\n",
    "    print(\"the closing the third doll\")\n",
    "def fun4(): #FOURTH DOLL\n",
    "    print(\"this is fourth doll, OPENING THE FIFTH DOLL fun5\")\n",
    "    fun5()\n",
    "    print(\"the closing the fourth doll\")\n",
    "def fun5():#FIFTH DOLL\n",
    "    print(\"this is fifth doll, OPENING THE RESULT DOLL \")\n",
    "    fun6()\n",
    "    print(\"the closing the fifth doll\")\n",
    "def fun6():\n",
    "    print(\"I am the RESULT DOLL.......,    Hurray you found me\")\n",
    "    print(\"no back to closing the result doll in sequence\")"
   ]
  },
  {
   "cell_type": "code",
   "execution_count": 2,
   "id": "d1d86304",
   "metadata": {},
   "outputs": [
    {
     "name": "stdout",
     "output_type": "stream",
     "text": [
      "this is the first doll,OPENING THE SECOND DOLL fun2\n",
      "this is second doll, OPENING THE THIRD DOLL fun3\n",
      "this is third doll, OPENING THE FOURTH DOLL fun4\n",
      "this is fourth doll, OPENING THE FIFTH DOLL fun5\n",
      "this is fifth doll, OPENING THE RESULT DOLL \n",
      "I am the RESULT DOLL.......,    Hurray you found me\n",
      "no back to closing the result doll in sequence\n",
      "the closing the fifth doll\n",
      "the closing the fourth doll\n",
      "the closing the third doll\n",
      "the closing the second doll\n",
      "the closing of first doll\n"
     ]
    }
   ],
   "source": [
    "# Inside the first doll are multiple doll in it atlast we find the result doll so calling the fun1\n",
    "fun1()"
   ]
  },
  {
   "cell_type": "raw",
   "id": "69b89bc7",
   "metadata": {},
   "source": [
    "# Fibonacci sequence is defined froming the new number using the previous two numbers.\n",
    "# Then the new number is created by summation of last number and precceding number of last number.\n",
    "# Fibonacci sequenc formula is given by F(n) = F(n-1)+F(n-2) let's try to understand using the simple example.\n",
    "# The fibonacci sequence is also can find using the same example of the recursion.\n",
    "\n",
    "fibonacci sequence for the sixth number i.e., F(6)\n",
    "\n",
    "using the above formula then we can find the fibonacci sequence of any number\n",
    "\n",
    "let\n",
    " F(0) ==>0\n",
    " F(1) ==> 1\n",
    " F(2) ==> 1\n",
    " F(3) = F(2)+F(1) ==> 2\n",
    " F(4) = F(3)+F(2) = 2+1 ==> 3\n",
    " F(5) = F(4)+F(3) = 3+2 ==> 5\n",
    "\n",
    "\n",
    "then F(6) = F(6-1)+F(6-2) = F(5)+F(4) = 5+3 ==> 8"
   ]
  },
  {
   "cell_type": "code",
   "execution_count": 3,
   "id": "3f6e16d3",
   "metadata": {},
   "outputs": [],
   "source": [
    "# BY USING THE ABOVE FORMULA WE CAN DEFINE THE FUNCTION:\n",
    "def fibonacci_rec(n):\n",
    "    if n <=1:\n",
    "        return n # because F(1) = 1 and F(0)= 0\n",
    "    else:\n",
    "        result = fibonacci_rec(n-1)+fibonacci_rec(n-2)\n",
    "        return result"
   ]
  },
  {
   "cell_type": "code",
   "execution_count": 4,
   "id": "10e4000c",
   "metadata": {},
   "outputs": [
    {
     "data": {
      "text/plain": [
       "8"
      ]
     },
     "execution_count": 4,
     "metadata": {},
     "output_type": "execute_result"
    }
   ],
   "source": [
    "fibonacci_rec(6)"
   ]
  },
  {
   "cell_type": "code",
   "execution_count": 5,
   "id": "6314afed",
   "metadata": {},
   "outputs": [
    {
     "data": {
      "text/plain": [
       "55"
      ]
     },
     "execution_count": 5,
     "metadata": {},
     "output_type": "execute_result"
    }
   ],
   "source": [
    "fibonacci_rec(10)"
   ]
  },
  {
   "cell_type": "markdown",
   "id": "b3566248",
   "metadata": {},
   "source": [
    "## 2.\tWrite a Python Program to Find Factorial of Number Using Recursion"
   ]
  },
  {
   "cell_type": "code",
   "execution_count": 6,
   "id": "a7b7f1ab",
   "metadata": {},
   "outputs": [],
   "source": [
    "# The mechanism behind the factorial using recursion function is \n",
    "# 5! = 5*4!\n",
    "#        4! = 4*3!\n",
    "#               3! = 3*2!\n",
    "#                      2! = 2*1!\n",
    "#                             1! and 0! == 1\n",
    "# it is simplly : 5*4*3*2*1 = 120"
   ]
  },
  {
   "cell_type": "code",
   "execution_count": 7,
   "id": "0c72a437",
   "metadata": {},
   "outputs": [],
   "source": [
    "# from the formulas of premutations and combination factorial of any number is given as \n",
    "# :: (NUMBER)! = (NUMBER) * (NUMBER -1)!\n",
    "def factorial(n):        \n",
    "    if n<=1:\n",
    "        return n\n",
    "    else:\n",
    "        return(n* factorial(n-1))\n",
    "    "
   ]
  },
  {
   "cell_type": "code",
   "execution_count": 8,
   "id": "b7d215c8",
   "metadata": {},
   "outputs": [
    {
     "data": {
      "text/plain": [
       "120"
      ]
     },
     "execution_count": 8,
     "metadata": {},
     "output_type": "execute_result"
    }
   ],
   "source": [
    "factorial(5)"
   ]
  },
  {
   "cell_type": "markdown",
   "id": "814bc4a8",
   "metadata": {},
   "source": [
    "## 3.\tWrite a Python Program to calculate your Body Mass Index?"
   ]
  },
  {
   "cell_type": "code",
   "execution_count": 9,
   "id": "ebaf716c",
   "metadata": {},
   "outputs": [],
   "source": [
    "# The body mass index is used for to check the correct mass of body according to weight and height for the ages above 2\n",
    "# The simplest formula for the calculating mass is given by ((weight)/[(height in meters)]**2)\n"
   ]
  },
  {
   "cell_type": "code",
   "execution_count": 10,
   "id": "7ee35885",
   "metadata": {},
   "outputs": [],
   "source": [
    "def BMI(weight,height):   # defining the function for finding the formula for the bmi\n",
    "    \"\"\"This function is used to find the body mass index value \"\"\"\n",
    "    bmi = ((weight)/(height)**2)\n",
    "    return bmi"
   ]
  },
  {
   "cell_type": "code",
   "execution_count": 11,
   "id": "f76ab6b5",
   "metadata": {},
   "outputs": [
    {
     "name": "stdout",
     "output_type": "stream",
     "text": [
      "please enter the age of yours :: 22\n",
      "please enter your weight : 75\n",
      "please enter you height in meters :1.859\n",
      "      your are in good healthy condition       \n"
     ]
    }
   ],
   "source": [
    "age = int(input(\"please enter the age of yours :: \"))\n",
    "if age <=5:\n",
    "    print(\"body mass index is not give to age below 5\")\n",
    "elif age>=5 and age<=20:\n",
    "    weight = float(input(\"please enter your weight : \"))               \n",
    "    height = float(input(\"please enter you height in meters :\"))\n",
    "    bmi = BMI(weight,height)\n",
    "    if (bmi<=17.5):\n",
    "        print(\"     Your condition is  underweight           \")\n",
    "    elif (bmi>17.5 and bmi<= 25.5):\n",
    "        print(\"     your are in good healthy condition       \")\n",
    "    elif (bmi>25.5 and bmi<=29.5):\n",
    "        print(     \"your condition is  overweight            \")\n",
    "    elif (bmi>=29.5):\n",
    "        print(\"     your condition is obesity                \")\n",
    "elif age >20:                                                  # reference ranges is taken form : WHO \"BMI\" indexes \n",
    "    weight = float(input(\"please enter your weight : \"))               \n",
    "    height = float(input(\"please enter you height in meters :\"))\n",
    "    bmi = BMI(weight,height)\n",
    "    if (bmi<=18.4):\n",
    "        print(\"      Your condition is  underweight           \")\n",
    "    elif (bmi>=18.5 and bmi<= 25):\n",
    "        print(\"      your are in good healthy condition       \")\n",
    "    elif (bmi>25 and bmi<=30):\n",
    "        print(\"       your condition is  overweight           \")\n",
    "    elif (bmi>30 and bmi<=35):\n",
    "        print(\"      your condition is obesity type -1        \")\n",
    "    elif (bmi>35 and bmi<=40):\n",
    "        print(\"      your condition is obesity type -2        \")\n",
    "    elif(bmi > 40):\n",
    "        print(\"      your in danger it is obesity type -3     \")\n",
    "    "
   ]
  },
  {
   "cell_type": "markdown",
   "id": "da067ff2",
   "metadata": {},
   "source": [
    "## 4.\tWrite a Python Program to calculate the natural logarithm of any number?"
   ]
  },
  {
   "cell_type": "code",
   "execution_count": 12,
   "id": "5be7e28c",
   "metadata": {},
   "outputs": [],
   "source": [
    "# There are two types of logarithm namely  \n",
    "#logarithm to the base exponential functional is called \"natural logarithm\"\n",
    "#logarithm to the base ten(10) is called simple logarithm or logarithm to the base 10\n",
    "#In order to find the logarithm of any number can be found by importing the cmath(complex math ) module and then calling\n",
    "#     cmath.log(x[, base]) method "
   ]
  },
  {
   "cell_type": "code",
   "execution_count": 13,
   "id": "7df64f7c",
   "metadata": {},
   "outputs": [],
   "source": [
    "def logarithm(n):\n",
    "    \"\"\"This function is used to find the logarithmic value \"\"\"\n",
    "    import cmath\n",
    "    output = cmath.log(n)\n",
    "    return output"
   ]
  },
  {
   "cell_type": "code",
   "execution_count": 14,
   "id": "d75dfce2",
   "metadata": {},
   "outputs": [
    {
     "data": {
      "text/plain": [
       "(3.58351893845611+0j)"
      ]
     },
     "execution_count": 14,
     "metadata": {},
     "output_type": "execute_result"
    }
   ],
   "source": [
    "logarithm(36)"
   ]
  },
  {
   "cell_type": "markdown",
   "id": "51961102",
   "metadata": {},
   "source": [
    "## 5.\tWrite a Python Program for cube sum of first n natural numbers?"
   ]
  },
  {
   "cell_type": "code",
   "execution_count": 15,
   "id": "9fc8bd8d",
   "metadata": {},
   "outputs": [],
   "source": [
    "# from the formulas of mathematical induction from secondary high school mathematics\n",
    "# The cube sum of the first n natural numbers is given by == (n(n+1)/2)**2\n",
    "# example : cube sum of first 6 natural numbers \n",
    "# n = 6 \n",
    "# step :1 ((6*7)/2)**2\n",
    "# step :2 (42/2)**2\n",
    "# step :3 (21)**2\n",
    "# step :4 21**2 == 441"
   ]
  },
  {
   "cell_type": "markdown",
   "id": "5ab2122a",
   "metadata": {},
   "source": [
    "### Method -1 (formula method)"
   ]
  },
  {
   "cell_type": "code",
   "execution_count": 16,
   "id": "268681cb",
   "metadata": {},
   "outputs": [
    {
     "name": "stdout",
     "output_type": "stream",
     "text": [
      "please enter summation of cubes of n number, n is ::9\n",
      "cube sum of first 9 natural numbers is ::  2025.0\n"
     ]
    }
   ],
   "source": [
    "n = int(input(\"please enter summation of cubes of n number, n is ::\"))\n",
    "a = n*(n+1)\n",
    "b = 2\n",
    "c = (a/b)**2\n",
    "print(\"cube sum of first\",n,\"natural numbers is :: \",c)"
   ]
  },
  {
   "cell_type": "markdown",
   "id": "cb82931a",
   "metadata": {},
   "source": [
    "### Method -2 (Using for loop)"
   ]
  },
  {
   "cell_type": "code",
   "execution_count": 17,
   "id": "fc432014",
   "metadata": {},
   "outputs": [
    {
     "name": "stdout",
     "output_type": "stream",
     "text": [
      "please enter summation of cubes of n number, n is ::9\n",
      "cube sum of first 9 natural numbers is ::  2025\n"
     ]
    }
   ],
   "source": [
    "n = int(input(\"please enter summation of cubes of n number, n is ::\"))\n",
    "summation = 0 \n",
    "for i in range(1,n+1):\n",
    "    summation = summation + i*i*i\n",
    "    \n",
    "print(\"cube sum of first\",n,\"natural numbers is :: \",summation)    "
   ]
  },
  {
   "cell_type": "code",
   "execution_count": null,
   "id": "d35c848a",
   "metadata": {},
   "outputs": [],
   "source": []
  }
 ],
 "metadata": {
  "kernelspec": {
   "display_name": "Python 3 (ipykernel)",
   "language": "python",
   "name": "python3"
  },
  "language_info": {
   "codemirror_mode": {
    "name": "ipython",
    "version": 3
   },
   "file_extension": ".py",
   "mimetype": "text/x-python",
   "name": "python",
   "nbconvert_exporter": "python",
   "pygments_lexer": "ipython3",
   "version": "3.9.7"
  }
 },
 "nbformat": 4,
 "nbformat_minor": 5
}
