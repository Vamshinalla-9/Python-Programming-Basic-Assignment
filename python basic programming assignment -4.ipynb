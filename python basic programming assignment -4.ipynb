{
 "cells": [
  {
   "cell_type": "markdown",
   "id": "b9a986dc",
   "metadata": {},
   "source": [
    "## 1.\tWrite a Python Program to Find the Factorial of a Number?"
   ]
  },
  {
   "cell_type": "code",
   "execution_count": 1,
   "id": "c223cef0",
   "metadata": {},
   "outputs": [
    {
     "name": "stdout",
     "output_type": "stream",
     "text": [
      "Enter the number : 5\n",
      "The factorial of 5 ! is 1\n",
      "The factorial of 5 ! is 2\n",
      "The factorial of 5 ! is 6\n",
      "The factorial of 5 ! is 24\n",
      "The factorial of 5 ! is 120\n"
     ]
    }
   ],
   "source": [
    "# The mathematical formula for find factorial is given by n! = n*(n-1)*......*1\n",
    "# example 5! = 5*4*3*2*1 = 120\n",
    "n = int(input(\"Enter the number : \"))\n",
    "\n",
    "factorial = 1 \n",
    "\n",
    "if n == 0:\n",
    "    print(\"factorial of 0! is 1\")\n",
    "elif n < 0:\n",
    "    print(\"factorial does not exist for the negative numbers \")\n",
    "else:\n",
    "    for i in range(1,n+1):# we should add the one to input because direct input can be exculded \n",
    "        factorial = factorial*i\n",
    "        print(\"The factorial of\",n, \"! is\", factorial)\n",
    "        "
   ]
  },
  {
   "cell_type": "code",
   "execution_count": null,
   "id": "f401e55b",
   "metadata": {},
   "outputs": [],
   "source": [
    "            # for the above program #\n",
    "    \n",
    "    \n",
    "##  iteration                    ## factorial number \n",
    "## i = 1                         ## factorial = 1*1 =1\n",
    "## i = 2                         ## factorial = 1*2 = 2\n",
    "## i = 3                         ## factorial = 2*3 = 6\n",
    "## i = 4                         ## factorial = 6*4 = 24\n",
    "## i = 5                         ## factorial = 24*5 =120"
   ]
  },
  {
   "cell_type": "markdown",
   "id": "c32e43fa",
   "metadata": {},
   "source": [
    "## 2.\tWrite a Python Program to Display the multiplication Table?"
   ]
  },
  {
   "cell_type": "markdown",
   "id": "23c55de2",
   "metadata": {},
   "source": [
    "### method-1 (displaying only selected multiplication table)"
   ]
  },
  {
   "cell_type": "code",
   "execution_count": 2,
   "id": "a0c3c8df",
   "metadata": {},
   "outputs": [
    {
     "name": "stdout",
     "output_type": "stream",
     "text": [
      "Enter the table : 9\n",
      "9 X 1 = 9\n",
      "9 X 2 = 18\n",
      "9 X 3 = 27\n",
      "9 X 4 = 36\n",
      "9 X 5 = 45\n",
      "9 X 6 = 54\n",
      "9 X 7 = 63\n",
      "9 X 8 = 72\n",
      "9 X 9 = 81\n",
      "9 X 10 = 90\n"
     ]
    }
   ],
   "source": [
    "num = int(input(\"Enter the table : \"))\n",
    "for i in range(1,11):   # The range must be the 11 because it always excludes the upper bound \n",
    "    print(num, \"X\", i ,\"=\" ,num*i)"
   ]
  },
  {
   "cell_type": "markdown",
   "id": "a413316d",
   "metadata": {},
   "source": [
    "### Method - 2 (printing table upto the selected range  with 10 multiples) "
   ]
  },
  {
   "cell_type": "code",
   "execution_count": 3,
   "id": "c2f14baf",
   "metadata": {},
   "outputs": [
    {
     "name": "stdout",
     "output_type": "stream",
     "text": [
      "Enter the '(last number + 1)'table Number upto the selected range  with 10 multiples 11\n",
      "1 X 1 = 1\n",
      "1 X 2 = 2\n",
      "1 X 3 = 3\n",
      "1 X 4 = 4\n",
      "1 X 5 = 5\n",
      "1 X 6 = 6\n",
      "1 X 7 = 7\n",
      "1 X 8 = 8\n",
      "1 X 9 = 9\n",
      "1 X 10 = 10\n",
      "2 X 1 = 2\n",
      "2 X 2 = 4\n",
      "2 X 3 = 6\n",
      "2 X 4 = 8\n",
      "2 X 5 = 10\n",
      "2 X 6 = 12\n",
      "2 X 7 = 14\n",
      "2 X 8 = 16\n",
      "2 X 9 = 18\n",
      "2 X 10 = 20\n",
      "3 X 1 = 3\n",
      "3 X 2 = 6\n",
      "3 X 3 = 9\n",
      "3 X 4 = 12\n",
      "3 X 5 = 15\n",
      "3 X 6 = 18\n",
      "3 X 7 = 21\n",
      "3 X 8 = 24\n",
      "3 X 9 = 27\n",
      "3 X 10 = 30\n",
      "4 X 1 = 4\n",
      "4 X 2 = 8\n",
      "4 X 3 = 12\n",
      "4 X 4 = 16\n",
      "4 X 5 = 20\n",
      "4 X 6 = 24\n",
      "4 X 7 = 28\n",
      "4 X 8 = 32\n",
      "4 X 9 = 36\n",
      "4 X 10 = 40\n",
      "5 X 1 = 5\n",
      "5 X 2 = 10\n",
      "5 X 3 = 15\n",
      "5 X 4 = 20\n",
      "5 X 5 = 25\n",
      "5 X 6 = 30\n",
      "5 X 7 = 35\n",
      "5 X 8 = 40\n",
      "5 X 9 = 45\n",
      "5 X 10 = 50\n",
      "6 X 1 = 6\n",
      "6 X 2 = 12\n",
      "6 X 3 = 18\n",
      "6 X 4 = 24\n",
      "6 X 5 = 30\n",
      "6 X 6 = 36\n",
      "6 X 7 = 42\n",
      "6 X 8 = 48\n",
      "6 X 9 = 54\n",
      "6 X 10 = 60\n",
      "7 X 1 = 7\n",
      "7 X 2 = 14\n",
      "7 X 3 = 21\n",
      "7 X 4 = 28\n",
      "7 X 5 = 35\n",
      "7 X 6 = 42\n",
      "7 X 7 = 49\n",
      "7 X 8 = 56\n",
      "7 X 9 = 63\n",
      "7 X 10 = 70\n",
      "8 X 1 = 8\n",
      "8 X 2 = 16\n",
      "8 X 3 = 24\n",
      "8 X 4 = 32\n",
      "8 X 5 = 40\n",
      "8 X 6 = 48\n",
      "8 X 7 = 56\n",
      "8 X 8 = 64\n",
      "8 X 9 = 72\n",
      "8 X 10 = 80\n",
      "9 X 1 = 9\n",
      "9 X 2 = 18\n",
      "9 X 3 = 27\n",
      "9 X 4 = 36\n",
      "9 X 5 = 45\n",
      "9 X 6 = 54\n",
      "9 X 7 = 63\n",
      "9 X 8 = 72\n",
      "9 X 9 = 81\n",
      "9 X 10 = 90\n",
      "10 X 1 = 10\n",
      "10 X 2 = 20\n",
      "10 X 3 = 30\n",
      "10 X 4 = 40\n",
      "10 X 5 = 50\n",
      "10 X 6 = 60\n",
      "10 X 7 = 70\n",
      "10 X 8 = 80\n",
      "10 X 9 = 90\n",
      "10 X 10 = 100\n"
     ]
    }
   ],
   "source": [
    "A = int(input(\"Enter the '(last number + 1)'table Number upto the selected range  with 10 multiples \"))\n",
    "for table  in range(1,A):\n",
    "    for i in range(1,11): \n",
    "        # The range must be the 11 because it always excludes the upper bound \n",
    "        print(table, \"X\", i ,\"=\" ,table*i)"
   ]
  },
  {
   "cell_type": "markdown",
   "id": "25aada9f",
   "metadata": {},
   "source": [
    "## 3.\tWrite a Python Program to Print the Fibonacci sequence?"
   ]
  },
  {
   "cell_type": "raw",
   "id": "6d542e70",
   "metadata": {},
   "source": [
    "*Fibonacci sequence : Fibonacci sequence is also called as Fibonacci numbers.Fibonacci numbers or sequence is generated \n",
    "                     by summation of two number and then generating the third number. Then In order to generate the fourth                      number then summation of precceding of new number and then new number then fourth number is formed                          simillar pattern is followed upto the selected range\n",
    "                     \n",
    "    example: a = 0, b =1, c = a+b =>1 \n",
    "    here a is first number  : 0\n",
    "         b is second number : 1\n",
    "         c is third number  : 1\n",
    "         for fourth number  : 1+1 =2\n",
    "         for fifth number   :2+1 = 3\n",
    "         for sixth number   :2+3 = 5\n",
    "            .....\n",
    "            .....\n",
    "            .....\n",
    "            .....\n",
    "            .....\n",
    "            .....\n",
    "            .....\n",
    "simillary goes on the pattern\n"
   ]
  },
  {
   "cell_type": "code",
   "execution_count": 4,
   "id": "1b307ee1",
   "metadata": {},
   "outputs": [
    {
     "name": "stdout",
     "output_type": "stream",
     "text": [
      "Enter the upper range number to generate20\n"
     ]
    },
    {
     "data": {
      "text/plain": [
       "[1,\n",
       " 1,\n",
       " 2,\n",
       " 3,\n",
       " 5,\n",
       " 8,\n",
       " 13,\n",
       " 21,\n",
       " 34,\n",
       " 55,\n",
       " 89,\n",
       " 144,\n",
       " 233,\n",
       " 377,\n",
       " 610,\n",
       " 987,\n",
       " 1597,\n",
       " 2584,\n",
       " 4181,\n",
       " 6765]"
      ]
     },
     "execution_count": 4,
     "metadata": {},
     "output_type": "execute_result"
    }
   ],
   "source": [
    "\n",
    "n = int(input(\"Enter the upper range number to generate\"))\n",
    "# let's create the empty list\n",
    "l = []\n",
    "# we have to create two variables \n",
    "a = 0\n",
    "b = 1\n",
    "for i in range(n):\n",
    "    a,b = b,a+b\n",
    "    l.append(a)\n",
    "\n",
    "\n",
    "l    "
   ]
  },
  {
   "cell_type": "markdown",
   "id": "14df7aea",
   "metadata": {},
   "source": [
    "## 4.\tWrite a Python Program to Check Armstrong Number?"
   ]
  },
  {
   "cell_type": "raw",
   "id": "2a8f5f88",
   "metadata": {},
   "source": [
    "Armstrong Number: Armstrong Number is defined as any number with any length then the summation of each and every  digit with raising power with length of  number, results to the same number is called Armstrong number.\n",
    "\n",
    "Example : \n",
    "1  = (1*1)\n",
    "370 = (3**3)+(7**3)+(0**3) ==  27 + 343 + 0 == 370\n",
    "1634 = (1**4)+(6**4)+(3**4)+(4**4) == 1 + 1296 + 81 + 256 == 1634"
   ]
  },
  {
   "cell_type": "code",
   "execution_count": 5,
   "id": "21895ecc",
   "metadata": {},
   "outputs": [
    {
     "name": "stdout",
     "output_type": "stream",
     "text": [
      "enter the number : 1634\n",
      "1634 number is Armstrong number\n"
     ]
    }
   ],
   "source": [
    "n = input(\"enter the number : \") # we should not declare the int data type to input because int does not supports the \"len\"\n",
    "l = len(n)\n",
    "summation = 0\n",
    "\n",
    "for i in range(0,l):\n",
    "    d = int(n[i])\n",
    "    summation = summation + d**l\n",
    "if summation == int(n):\n",
    "    print(n,\"number is Armstrong number\")\n",
    "else:\n",
    "    print(n,\"number is not Armstrong number\")"
   ]
  },
  {
   "cell_type": "markdown",
   "id": "1ebd63c5",
   "metadata": {},
   "source": [
    "## 5.\tWrite a Python Program to Find Armstrong Number in an Interval?"
   ]
  },
  {
   "cell_type": "code",
   "execution_count": 6,
   "id": "4ce8176a",
   "metadata": {},
   "outputs": [
    {
     "name": "stdout",
     "output_type": "stream",
     "text": [
      "Enter the lower bound of interval : 1\n",
      "Enter the upper bound of interval : 10000\n",
      "The list of Armstrong numbers in interval 1 and 10000 is :  [1, 2, 3, 4, 5, 6, 7, 8, 9, 153, 370, 371, 407, 1634, 8208, 9474]\n"
     ]
    }
   ],
   "source": [
    "# giving inputs\n",
    "lowerB = int(input(\"Enter the lower bound of interval : \"))\n",
    "upperB = int(input(\"Enter the upper bound of interval : \"))\n",
    "output = []  # empty list for the armstrong numbers\n",
    "output1 = [] # empty lisf for the non armstorng numbers\n",
    "for number in range(lowerB,upperB):\n",
    "    order = len(str(number)) # finding the length of number\n",
    "    summation = 0   # intitalize summation = 0 \n",
    "    temp = number\n",
    "    while temp > 0:\n",
    "        d = temp%10\n",
    "        summation = summation + d**order\n",
    "        temp//=10\n",
    "    if number == summation:\n",
    "        output.append(number) # appending the numbers to the list\n",
    "    else:\n",
    "        output1.append(number)\n",
    "        \n",
    "print(\"The list of Armstrong numbers in interval {0} and {1} is : \".format(lowerB,upperB), output)        "
   ]
  },
  {
   "cell_type": "markdown",
   "id": "72f6be5c",
   "metadata": {},
   "source": [
    "## 6.\tWrite a Python Program to Find the Sum of Natural Numbers?"
   ]
  },
  {
   "cell_type": "markdown",
   "id": "6cc0e614",
   "metadata": {},
   "source": [
    "###  Method - 1(using while loop ) "
   ]
  },
  {
   "cell_type": "code",
   "execution_count": 7,
   "id": "11c5e3dc",
   "metadata": {},
   "outputs": [
    {
     "name": "stdout",
     "output_type": "stream",
     "text": [
      "enter the number :: 30\n",
      "The sum of the natural number upto entered number is :  465\n"
     ]
    }
   ],
   "source": [
    "number = int(input(\"enter the number :: \"))\n",
    "if number <0:\n",
    "    print(\"please enter only positive number : \")\n",
    "else:\n",
    "    summation = 0\n",
    "    i = 0 \n",
    "    while i < number: # while loop is used beacuse in order to iterate upto 0 value\n",
    "        summation = summation + number \n",
    "        number = number - 1\n",
    "print(\"The sum of the natural number upto entered number is : \",summation)        "
   ]
  },
  {
   "cell_type": "markdown",
   "id": "273f01aa",
   "metadata": {},
   "source": [
    "### Method - 2 (using induction formula)"
   ]
  },
  {
   "cell_type": "code",
   "execution_count": 8,
   "id": "b6587e9d",
   "metadata": {},
   "outputs": [
    {
     "name": "stdout",
     "output_type": "stream",
     "text": [
      "enter the number :: 30\n",
      "The sum of the natural numbers upto entered number is :  465.0\n"
     ]
    }
   ],
   "source": [
    "## By using mathematical induction formula we can obtain the sum of natural numbers\n",
    "n = int(input(\"enter the number :: \"))\n",
    "sumofn = (n * (n+1))/2\n",
    "print(\"The sum of the natural numbers upto entered number is : \",sumofn)"
   ]
  },
  {
   "cell_type": "code",
   "execution_count": null,
   "id": "ad905278",
   "metadata": {},
   "outputs": [],
   "source": []
  }
 ],
 "metadata": {
  "kernelspec": {
   "display_name": "Python 3 (ipykernel)",
   "language": "python",
   "name": "python3"
  },
  "language_info": {
   "codemirror_mode": {
    "name": "ipython",
    "version": 3
   },
   "file_extension": ".py",
   "mimetype": "text/x-python",
   "name": "python",
   "nbconvert_exporter": "python",
   "pygments_lexer": "ipython3",
   "version": "3.9.7"
  }
 },
 "nbformat": 4,
 "nbformat_minor": 5
}
