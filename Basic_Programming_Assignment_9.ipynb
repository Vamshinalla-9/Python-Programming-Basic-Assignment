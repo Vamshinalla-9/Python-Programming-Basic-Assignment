{
 "cells": [
  {
   "cell_type": "markdown",
   "id": "ab81571c",
   "metadata": {},
   "source": [
    "### 1. Write a Python program to check if the given number is a Disarium Number?"
   ]
  },
  {
   "cell_type": "code",
   "execution_count": 1,
   "id": "277bab64",
   "metadata": {},
   "outputs": [
    {
     "name": "stdout",
     "output_type": "stream",
     "text": [
      "Please only enter the number only :135\n",
      "Yes, Number You entered the disarium number only \n"
     ]
    }
   ],
   "source": [
    "number = int(input(\"Please only enter the number only :\"))\n",
    "number = str(number)\n",
    "summation = 0\n",
    "for i in range(len(number)):\n",
    "    summation += int(number[i])**(i+1)\n",
    "if str(summation) == number:\n",
    "    print(\"Yes, Number You entered the disarium number only \")\n",
    "else:\n",
    "    print(\"No, Number you entered is not the Disarium number \")\n",
    "    \n"
   ]
  },
  {
   "cell_type": "markdown",
   "id": "957d30eb",
   "metadata": {},
   "source": [
    "### 2. Write a Python program to print all disarium numbers between 1 to 100?"
   ]
  },
  {
   "cell_type": "code",
   "execution_count": 2,
   "id": "a1ac9d2a",
   "metadata": {},
   "outputs": [
    {
     "name": "stdout",
     "output_type": "stream",
     "text": [
      "The all disarium numbers between 1 to 100 is given below list \n"
     ]
    },
    {
     "data": {
      "text/plain": [
       "[1, 2, 3, 4, 5, 6, 7, 8, 9, 89]"
      ]
     },
     "execution_count": 2,
     "metadata": {},
     "output_type": "execute_result"
    }
   ],
   "source": [
    "lst = []\n",
    "final_list = []\n",
    "for i in range(1,100):\n",
    "    lst.append(i)\n",
    "    for j in lst:\n",
    "        summation = 0 \n",
    "        string = str(j)\n",
    "        for k in range(len(string)):\n",
    "            summation += int((string[k]))**(k+1)\n",
    "    if str(summation) == string:\n",
    "        final_list.append(j)\n",
    "    else:\n",
    "        pass\n",
    "print(\"The all disarium numbers between 1 to 100 is given below list \")\n",
    "final_list\n",
    "        "
   ]
  },
  {
   "cell_type": "markdown",
   "id": "08fb1622",
   "metadata": {},
   "source": [
    "### 3. Write a Python program to check if the given number is Happy Number?"
   ]
  },
  {
   "cell_type": "code",
   "execution_count": 3,
   "id": "5820f254",
   "metadata": {},
   "outputs": [],
   "source": [
    "def is_happy_number(n):\n",
    "    \"\"\"check for number is happy number or not with happy number algorithm\"\"\"\n",
    "    temp = n\n",
    "    addition = set()\n",
    "    while n!=1:\n",
    "        n = sum(int(i)**2 for i in str(n))\n",
    "        if n in addition:\n",
    "            return temp,\"no it is not a happy number\"\n",
    "        addition.add(n)\n",
    "    return temp ,\"Yes it is happy number\""
   ]
  },
  {
   "cell_type": "code",
   "execution_count": 4,
   "id": "a57415a9",
   "metadata": {},
   "outputs": [
    {
     "data": {
      "text/plain": [
       "(89, 'no it is not a happy number')"
      ]
     },
     "execution_count": 4,
     "metadata": {},
     "output_type": "execute_result"
    }
   ],
   "source": [
    "is_happy_number(89)"
   ]
  },
  {
   "cell_type": "code",
   "execution_count": 5,
   "id": "9d8b2853",
   "metadata": {},
   "outputs": [
    {
     "data": {
      "text/plain": [
       "(44, 'Yes it is happy number')"
      ]
     },
     "execution_count": 5,
     "metadata": {},
     "output_type": "execute_result"
    }
   ],
   "source": [
    "is_happy_number(44)"
   ]
  },
  {
   "cell_type": "markdown",
   "id": "7d09b671",
   "metadata": {},
   "source": [
    "### Write a Python program to print all happy numbers between 1 and 100?"
   ]
  },
  {
   "cell_type": "code",
   "execution_count": 6,
   "id": "351cf905",
   "metadata": {},
   "outputs": [],
   "source": [
    "def is_happy_number(n):\n",
    "    \"\"\"check for number is happy number or not with happy number algorithm\"\"\"\n",
    "    addition = set()\n",
    "    while n!=1:\n",
    "        n = sum(int(i)**2 for i in str(n))\n",
    "        if n in addition:\n",
    "            return False\n",
    "        addition.add(n)\n",
    "    return True\n",
    "def Happy_numebers(a,b):\n",
    "    \"\"\"Prints the list of happy numbers between two numbers\"\"\"\n",
    "    lst = []\n",
    "    for i in range(a,b+1):\n",
    "        if is_happy_number(i)==True:\n",
    "            lst.append(i)\n",
    "    return lst"
   ]
  },
  {
   "cell_type": "code",
   "execution_count": 7,
   "id": "92bb57d7",
   "metadata": {},
   "outputs": [
    {
     "data": {
      "text/plain": [
       "[1, 7, 10, 13, 19, 23, 28, 31, 32, 44, 49, 68, 70, 79, 82, 86, 91, 94, 97, 100]"
      ]
     },
     "execution_count": 7,
     "metadata": {},
     "output_type": "execute_result"
    }
   ],
   "source": [
    "Happy_numebers(1,100)"
   ]
  },
  {
   "cell_type": "markdown",
   "id": "f21f8294",
   "metadata": {},
   "source": [
    "### 5. Write a Python program to determine whether the given number is a Harshad Number?"
   ]
  },
  {
   "cell_type": "code",
   "execution_count": 8,
   "id": "94b1c2af",
   "metadata": {},
   "outputs": [],
   "source": [
    "def harshad_No(n):\n",
    "    \"\"\"It check wheather the given number is harashed number or Not\"\"\"\n",
    "    summation = 0\n",
    "    for i in str(n):\n",
    "        summation+= (int(i))\n",
    "    if n%summation == 0:\n",
    "        return n,\"Is Harshad number\"\n",
    "    else:\n",
    "        return n,\" No it is not a Harshad number\""
   ]
  },
  {
   "cell_type": "code",
   "execution_count": 9,
   "id": "72c9c38f",
   "metadata": {},
   "outputs": [
    {
     "data": {
      "text/plain": [
       "(90, 'Is Harshad number')"
      ]
     },
     "execution_count": 9,
     "metadata": {},
     "output_type": "execute_result"
    }
   ],
   "source": [
    "harshad_No(90)"
   ]
  },
  {
   "cell_type": "code",
   "execution_count": 10,
   "id": "01486509",
   "metadata": {},
   "outputs": [
    {
     "data": {
      "text/plain": [
       "(76, ' No it is not a Harshad number')"
      ]
     },
     "execution_count": 10,
     "metadata": {},
     "output_type": "execute_result"
    }
   ],
   "source": [
    "harshad_No(76)"
   ]
  },
  {
   "cell_type": "markdown",
   "id": "533afd4c",
   "metadata": {},
   "source": [
    "### 6. Write a Python program to print all pronic numbers between 1 and 100?"
   ]
  },
  {
   "cell_type": "code",
   "execution_count": 11,
   "id": "bd4bc687",
   "metadata": {},
   "outputs": [],
   "source": [
    "def pronic_numbers(a,b):\n",
    "    \"\"\"it prints all the pronic numbers between the two numbers\"\"\"\n",
    "    lst = []\n",
    "    for i in range(a,b+1):\n",
    "        lst.append(i)\n",
    "        final_lst = []\n",
    "        for n in lst:\n",
    "            f  = 0\n",
    "            for i in range(n):\n",
    "                if i*(i+1)==n:\n",
    "                    f = 1\n",
    "                    break\n",
    "            if f==1:\n",
    "                final_lst.append(n)\n",
    "    return final_lst"
   ]
  },
  {
   "cell_type": "code",
   "execution_count": 12,
   "id": "62f7ae27",
   "metadata": {},
   "outputs": [
    {
     "data": {
      "text/plain": [
       "[2, 6, 12, 20, 30, 42, 56, 72, 90]"
      ]
     },
     "execution_count": 12,
     "metadata": {},
     "output_type": "execute_result"
    }
   ],
   "source": [
    "pronic_numbers(1,100)"
   ]
  }
 ],
 "metadata": {
  "kernelspec": {
   "display_name": "Python 3 (ipykernel)",
   "language": "python",
   "name": "python3"
  },
  "language_info": {
   "codemirror_mode": {
    "name": "ipython",
    "version": 3
   },
   "file_extension": ".py",
   "mimetype": "text/x-python",
   "name": "python",
   "nbconvert_exporter": "python",
   "pygments_lexer": "ipython3",
   "version": "3.9.7"
  }
 },
 "nbformat": 4,
 "nbformat_minor": 5
}
