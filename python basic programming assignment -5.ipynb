{
 "cells": [
  {
   "cell_type": "markdown",
   "id": "a54d28cd",
   "metadata": {},
   "source": [
    "## 1.\tWrite a Python Program to Find LCM?"
   ]
  },
  {
   "cell_type": "code",
   "execution_count": 1,
   "id": "61370f5b",
   "metadata": {},
   "outputs": [],
   "source": [
    "# There are traditional method and library method to find the LCM of any two numbers \n",
    "# From the basics the LCM means the least common multiple \n",
    "# let's consider the number 2 and 9 \n",
    "# multiples of 2 = 2,4,6,8,10,12,14,16,18,19 and multiples of 9 = 9,18,27,32,45\n",
    "# from the observation multiples of 2 and 9 the common multiple is 18."
   ]
  },
  {
   "cell_type": "markdown",
   "id": "e185a737",
   "metadata": {},
   "source": [
    "### (method - 1) Traditional method "
   ]
  },
  {
   "cell_type": "code",
   "execution_count": 2,
   "id": "a33f194a",
   "metadata": {},
   "outputs": [
    {
     "name": "stdout",
     "output_type": "stream",
     "text": [
      "enter the  first number : 24\n",
      "enter the second number : 36\n",
      "the LCM of 24 and 36 is :-  72\n"
     ]
    }
   ],
   "source": [
    "a = int(input(\"enter the  first number : \"))\n",
    "b = int(input(\"enter the second number : \"))\n",
    "if a > b:  \n",
    "    mul = a  \n",
    "else:  \n",
    "    mul = b  \n",
    "while(True):  # we use while loop because that the mul should always divisble by both \"a\" and \"b\" until that it repeats upto the\n",
    "              # by divisble operation by incrementing the 1 to the mul      \n",
    "    if((mul % a == 0) and (mul % b == 0)):  \n",
    "        lcm = mul  \n",
    "        break  \n",
    "    mul += 1  \n",
    "print(\"the LCM of\",a ,\"and\", b ,\"is :- \",lcm)   "
   ]
  },
  {
   "cell_type": "markdown",
   "id": "2128da96",
   "metadata": {},
   "source": [
    "### (method - 2 ) using library methods"
   ]
  },
  {
   "cell_type": "code",
   "execution_count": 3,
   "id": "34383894",
   "metadata": {},
   "outputs": [
    {
     "name": "stdout",
     "output_type": "stream",
     "text": [
      "enter the  first number : 24\n",
      "enter the second number : 36\n",
      "the LCM of 24 and 36 is :-  72\n"
     ]
    }
   ],
   "source": [
    "# most simplest for \n",
    "a = int(input(\"enter the  first number : \"))\n",
    "b = int(input(\"enter the second number : \"))\n",
    "import math\n",
    "output = math.lcm(a,b)\n",
    "print(\"the LCM of\",a ,\"and\", b ,\"is :- \",output)    "
   ]
  },
  {
   "cell_type": "markdown",
   "id": "ee887a40",
   "metadata": {},
   "source": [
    "## 2.\tWrite a Python Program to Find HCF?"
   ]
  },
  {
   "cell_type": "markdown",
   "id": "c43d6590",
   "metadata": {},
   "source": [
    "### method -1(Traditional method)"
   ]
  },
  {
   "cell_type": "code",
   "execution_count": 4,
   "id": "8ce54004",
   "metadata": {},
   "outputs": [],
   "source": [
    "# From the basics of the HCF principles that HCF is always lessthan or equal to the smaller numbers of the two numbers namely \"a\" and \"b\"\n",
    "# so we have select the smaller number \n",
    "# Then increment of 1 to smaller number of both number\n",
    "# Then repeat the for loop in range of 1 to incremented smaller number\n",
    "    ## after that i value be selected if both number are divided by i value then i value is selected for each loop of \"for\"\n",
    "    ## then i value changes according the each for loop i value the last i value is called \"HCF\" or \"GCD\"\n",
    "    \n",
    "# Example HCF of (12,24)\n",
    "# smaller number is 12 \n",
    "# The for loop is repeated for the range(1 to 13)\n",
    "\n",
    "#first iteration --> i = 1 --> 12 % 1 == 0 and 24 % 1 == 0  || i = 1\n",
    "#second iteration--> i = 2 --> 12 % 2 == 0 and 24 % 2 == 0  || i = 2\n",
    "#Thrid  iteration--> i = 3 --> 12 % 3 == 0 and 24 % 3 == 0  || i = 3\n",
    "#forth iteration --> i = 4 --> 12 % 4 == 0 and 24 % 4 == 0  || i = 4 \n",
    "#fifth iteration --> i = 5 --> 12 % 5 == 0(False) and 24 % 5 == 0(False)  || i = 4 \n",
    "#sixth iteration --> i = 6 --> 12 % 6 == 0 and 24 % 6 == 0  || i = 6\n",
    "#seventh iteration --> i = 7 --> 12 % 7 == 0(False) and 24 % 7 == 0(False)  || i = 6\n",
    "#eight iteration --> i = 8 --> 12 % 8 == 0(False) and 24 % 8 == 0(True)  || i = 6\n",
    "#ninth iteration --> i = 9 --> 12 % 9 == 0(False) and 24 % 9 == 0(False)  || i = 6\n",
    "#tenth iteration --> i = 10 --> 12 % 10 == 0(False) and 24 % 10 == 0(False)  || i = 6\n",
    "#eleventh iteration --> i = 11 --> 12 % 11 == 0(False) and 24 % 11 == 0(False)  || i = 6\n",
    "#tweleth iteration --> i = 4 --> 12 % 12 == 0 and 24 % 12 == 0  || i = 12 \n",
    "\n",
    "#loop ends  i = 12 \n",
    "#so HCF is 12 \n",
    "#In case of if both or single number are prime numbers then the HCF is the 1"
   ]
  },
  {
   "cell_type": "code",
   "execution_count": 5,
   "id": "2902f96a",
   "metadata": {},
   "outputs": [
    {
     "name": "stdout",
     "output_type": "stream",
     "text": [
      "enter the  first number : 24\n",
      "enter the second number : 36\n",
      "The HCF of  24 and 36 is :-  12\n"
     ]
    }
   ],
   "source": [
    "a = int(input(\"enter the  first number : \"))\n",
    "b = int(input(\"enter the second number : \"))\n",
    "if a > b:\n",
    "    smaller = b\n",
    "else:\n",
    "    smaller = a\n",
    "for i in range(1,smaller+1):\n",
    "    if ((a % i == 0) and (b % i == 0 )):\n",
    "        HCF = i\n",
    "print(\"The HCF of \",a,\"and\",b,\"is :- \",HCF)"
   ]
  },
  {
   "cell_type": "markdown",
   "id": "b3293951",
   "metadata": {},
   "source": [
    "### Method -2 (Using the library methods)\n"
   ]
  },
  {
   "cell_type": "code",
   "execution_count": 6,
   "id": "c25937d1",
   "metadata": {},
   "outputs": [
    {
     "name": "stdout",
     "output_type": "stream",
     "text": [
      "enter the  first number : 24\n",
      "enter the second number : 36\n",
      "The HCF (or) GCD of  24 and 36 is :-  12\n"
     ]
    }
   ],
   "source": [
    "a = int(input(\"enter the  first number : \"))\n",
    "b = int(input(\"enter the second number : \"))\n",
    "import math \n",
    "output = math.gcd(a,b)\n",
    "print(\"The HCF (or) GCD of \",a,\"and\",b,\"is :- \",output)"
   ]
  },
  {
   "cell_type": "markdown",
   "id": "ed80d726",
   "metadata": {},
   "source": [
    "## 3.\tWrite a Python Program to Convert Decimal to Binary, Octal and Hexadecimal?"
   ]
  },
  {
   "cell_type": "code",
   "execution_count": 7,
   "id": "c3fa7f95",
   "metadata": {},
   "outputs": [
    {
     "name": "stdout",
     "output_type": "stream",
     "text": [
      "please enter the decimal :- 256\n",
      "The decimal  256 in binary conversion is :- 0b100000000\n",
      "The decimal  256 in octal conversion is :- 0o400\n",
      "The decimal  256 in hexadecimal conversion is :- 0x100\n"
     ]
    }
   ],
   "source": [
    "# There is the simple keywords to convert decimal value to binary is \"bin(decimal)\" \n",
    "# for octal keyword is \"oct(decimal)\"\n",
    "# for hexadecimal keyword is hex(decimal)\n",
    "\n",
    "\n",
    "# Select the integer as a decimal and assign to the variable \n",
    "a = int(input(\"please enter the decimal :- \"))\n",
    "\n",
    "\n",
    "\n",
    "print(\"The decimal \",a,\"in binary conversion is :-\",bin(a))\n",
    "print(\"The decimal \",a,\"in octal conversion is :-\",oct(a))\n",
    "print(\"The decimal \",a,\"in hexadecimal conversion is :-\",hex(a))"
   ]
  },
  {
   "cell_type": "markdown",
   "id": "a8bec2a2",
   "metadata": {},
   "source": [
    "## 4.\tWrite a Python Program To Find ASCII value of a character?"
   ]
  },
  {
   "cell_type": "code",
   "execution_count": 8,
   "id": "4ef831cb",
   "metadata": {},
   "outputs": [
    {
     "name": "stdout",
     "output_type": "stream",
     "text": [
      "Enter the character to know the ascii value :- V\n",
      "The ASCII value is :-  86\n"
     ]
    }
   ],
   "source": [
    "x = str(input(\"Enter the character to know the ascii value :- \"))\n",
    "output = ord(x)  # ord is the keyword to find ascii value \n",
    "                 # chr is the keyword to find character of any ASCII value \n",
    "print(\"The ASCII value is :- \",output)"
   ]
  },
  {
   "cell_type": "markdown",
   "id": "e186b40e",
   "metadata": {},
   "source": [
    "## 5.\tWrite a Python Program to Make a Simple Calculator with 4 basic mathematical operations?"
   ]
  },
  {
   "cell_type": "code",
   "execution_count": 9,
   "id": "033fd861",
   "metadata": {},
   "outputs": [
    {
     "name": "stdout",
     "output_type": "stream",
     "text": [
      "Enter the first operand :: 25\n",
      "Enter the second operand :: 63\n",
      "Please select the operation between two numbers :: -\n",
      "The subtraction of 25 and 63 is ::  -38\n"
     ]
    }
   ],
   "source": [
    "# so in order to make any calculator there must be two operands  and one operator \n",
    "# so to create Calculator with 4 basic mathematical operations we will use 4 functions \n",
    "# on follow in the BODMAS rule we will create the functions\n",
    "def division(a,b):\n",
    "    return a/b\n",
    "def multiplication(a,b):\n",
    "    return a*b\n",
    "def add(a,b):\n",
    "    return a+b\n",
    "def subtract(a,b):\n",
    "    return a-b\n",
    "\n",
    "\n",
    "def calculator():\n",
    "    a = int(input(\"Enter the first operand :: \"))\n",
    "    b = int(input(\"Enter the second operand :: \"))\n",
    "    ope = input(\"Please select the operation between two numbers :: \")\n",
    "    if(ope != \"/\" and ope != \"*\" and ope != \"+\" and ope != \"-\"):\n",
    "        print(\"please select or enter the valid operator :: \")\n",
    "    else:\n",
    "        if(ope == \"/\"):\n",
    "            print(\"The division of\",a,\"and\",b,\"is :: \",division(a,b))\n",
    "        elif(ope == \"*\"):\n",
    "            print(\"The multipication of\",a,\"and\",b,\"is :: \",multiplication(a,b))\n",
    "        elif(ope == \"+\"):\n",
    "            print(\"The addition of\",a,\"and\",b,\"is :: \",add(a,b))\n",
    "        elif(ope == \"-\"):\n",
    "            print(\"The subtraction of\",a,\"and\",b,\"is :: \",subtract(a,b))\n",
    "            \n",
    "            \n",
    "calculator()            \n",
    "\n"
   ]
  },
  {
   "cell_type": "code",
   "execution_count": null,
   "id": "6ae0aadd",
   "metadata": {},
   "outputs": [],
   "source": []
  }
 ],
 "metadata": {
  "kernelspec": {
   "display_name": "Python 3 (ipykernel)",
   "language": "python",
   "name": "python3"
  },
  "language_info": {
   "codemirror_mode": {
    "name": "ipython",
    "version": 3
   },
   "file_extension": ".py",
   "mimetype": "text/x-python",
   "name": "python",
   "nbconvert_exporter": "python",
   "pygments_lexer": "ipython3",
   "version": "3.9.7"
  }
 },
 "nbformat": 4,
 "nbformat_minor": 5
}
