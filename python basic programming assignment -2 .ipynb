{
 "cells": [
  {
   "cell_type": "markdown",
   "id": "9cdefbba",
   "metadata": {},
   "source": [
    "## 1.\tWrite a Python program to convert kilometers to miles?"
   ]
  },
  {
   "cell_type": "markdown",
   "id": "b102c409",
   "metadata": {},
   "source": [
    "### Method 1:"
   ]
  },
  {
   "cell_type": "code",
   "execution_count": 1,
   "id": "d820ab8d",
   "metadata": {},
   "outputs": [
    {
     "name": "stdout",
     "output_type": "stream",
     "text": [
      "Enter the kilometers : 30\n",
      "18.641099999999998\n"
     ]
    }
   ],
   "source": [
    "## From the basics the 1 kilometer = 0.62137 miles\n",
    "kilometers = float(input(\"Enter the kilometers : \"))\n",
    "converted_mile = 0.62137\n",
    "The_mile_conversion= kilometers*converted_mile\n",
    "print(The_mile_conversion)"
   ]
  },
  {
   "cell_type": "markdown",
   "id": "facc867a",
   "metadata": {},
   "source": [
    "### Method 2:"
   ]
  },
  {
   "cell_type": "code",
   "execution_count": 2,
   "id": "9435042b",
   "metadata": {},
   "outputs": [
    {
     "name": "stdout",
     "output_type": "stream",
     "text": [
      "Enter the kilometers :- 30\n",
      "miles after converting from kilometers is 18.641099999999998\n"
     ]
    }
   ],
   "source": [
    "kilometer = float(input(\"Enter the kilometers :- \"))\n",
    "miles = kilometer*0.62137\n",
    "print(\"miles after converting from kilometers is\",miles)"
   ]
  },
  {
   "cell_type": "markdown",
   "id": "0731b6b8",
   "metadata": {},
   "source": [
    "## 2.\tWrite a Python program to convert Celsius to Fahrenheit?"
   ]
  },
  {
   "cell_type": "code",
   "execution_count": 3,
   "id": "a91a9a77",
   "metadata": {},
   "outputs": [
    {
     "name": "stdout",
     "output_type": "stream",
     "text": [
      "please enter the celsius temperature :- 42\n",
      "Temperature after converting form celsius to Fahrenheit is 107.60000000000001\n"
     ]
    }
   ],
   "source": [
    "## From basics of the formulas \n",
    "### celsius = (fahrenheit - 32) * (5/9)  \n",
    "\n",
    "### since using the above formula we can derive the formula for celsius to fahrenheit\n",
    "### fahrenheit = (celsius *9/5) + 32\n",
    "### 9/5 = 1.8\n",
    "Celsius = float(input(\"please enter the celsius temperature :- \"))\n",
    "Fahrenheit = (Celsius *(1.8)) + 32\n",
    "print(\"Temperature after converting form celsius to Fahrenheit is\",Fahrenheit)"
   ]
  },
  {
   "cell_type": "markdown",
   "id": "64a79137",
   "metadata": {},
   "source": [
    "## 3.\tWrite a Python program to display calendar?"
   ]
  },
  {
   "cell_type": "markdown",
   "id": "7da487b5",
   "metadata": {},
   "source": [
    "#### There is methods to access calendar for particular month or complete year calender\n"
   ]
  },
  {
   "cell_type": "markdown",
   "id": "3ce59b48",
   "metadata": {},
   "source": [
    "### Method- 1 (Only one particular month)"
   ]
  },
  {
   "cell_type": "code",
   "execution_count": 4,
   "id": "bc87659a",
   "metadata": {},
   "outputs": [
    {
     "name": "stdout",
     "output_type": "stream",
     "text": [
      "please enter the year : 2022\n",
      "please enter the month : 06\n",
      "     June 2022\n",
      "Mo Tu We Th Fr Sa Su\n",
      "       1  2  3  4  5\n",
      " 6  7  8  9 10 11 12\n",
      "13 14 15 16 17 18 19\n",
      "20 21 22 23 24 25 26\n",
      "27 28 29 30\n",
      "\n"
     ]
    }
   ],
   "source": [
    "# There is the in built module to access the calender that is calender \n",
    "# impoting the module \n",
    "import calendar\n",
    "# selecting the year and month \n",
    "year = int(input(\"please enter the year : \"))\n",
    "month = int(input(\"please enter the month : \"))\n",
    "print(calendar.month(year,month))"
   ]
  },
  {
   "cell_type": "markdown",
   "id": "0caec5a7",
   "metadata": {},
   "source": [
    "### Method -2 (for the complete year calender)"
   ]
  },
  {
   "cell_type": "code",
   "execution_count": 5,
   "id": "d89a2002",
   "metadata": {},
   "outputs": [
    {
     "name": "stdout",
     "output_type": "stream",
     "text": [
      "please enter the year to displayed : 2022\n",
      "                                  2022\n",
      "\n",
      "      January                   February                   March\n",
      "Mo Tu We Th Fr Sa Su      Mo Tu We Th Fr Sa Su      Mo Tu We Th Fr Sa Su\n",
      "                1  2          1  2  3  4  5  6          1  2  3  4  5  6\n",
      " 3  4  5  6  7  8  9       7  8  9 10 11 12 13       7  8  9 10 11 12 13\n",
      "10 11 12 13 14 15 16      14 15 16 17 18 19 20      14 15 16 17 18 19 20\n",
      "17 18 19 20 21 22 23      21 22 23 24 25 26 27      21 22 23 24 25 26 27\n",
      "24 25 26 27 28 29 30      28                        28 29 30 31\n",
      "31\n",
      "\n",
      "       April                      May                       June\n",
      "Mo Tu We Th Fr Sa Su      Mo Tu We Th Fr Sa Su      Mo Tu We Th Fr Sa Su\n",
      "             1  2  3                         1             1  2  3  4  5\n",
      " 4  5  6  7  8  9 10       2  3  4  5  6  7  8       6  7  8  9 10 11 12\n",
      "11 12 13 14 15 16 17       9 10 11 12 13 14 15      13 14 15 16 17 18 19\n",
      "18 19 20 21 22 23 24      16 17 18 19 20 21 22      20 21 22 23 24 25 26\n",
      "25 26 27 28 29 30         23 24 25 26 27 28 29      27 28 29 30\n",
      "                          30 31\n",
      "\n",
      "        July                     August                  September\n",
      "Mo Tu We Th Fr Sa Su      Mo Tu We Th Fr Sa Su      Mo Tu We Th Fr Sa Su\n",
      "             1  2  3       1  2  3  4  5  6  7                1  2  3  4\n",
      " 4  5  6  7  8  9 10       8  9 10 11 12 13 14       5  6  7  8  9 10 11\n",
      "11 12 13 14 15 16 17      15 16 17 18 19 20 21      12 13 14 15 16 17 18\n",
      "18 19 20 21 22 23 24      22 23 24 25 26 27 28      19 20 21 22 23 24 25\n",
      "25 26 27 28 29 30 31      29 30 31                  26 27 28 29 30\n",
      "\n",
      "      October                   November                  December\n",
      "Mo Tu We Th Fr Sa Su      Mo Tu We Th Fr Sa Su      Mo Tu We Th Fr Sa Su\n",
      "                1  2          1  2  3  4  5  6                1  2  3  4\n",
      " 3  4  5  6  7  8  9       7  8  9 10 11 12 13       5  6  7  8  9 10 11\n",
      "10 11 12 13 14 15 16      14 15 16 17 18 19 20      12 13 14 15 16 17 18\n",
      "17 18 19 20 21 22 23      21 22 23 24 25 26 27      19 20 21 22 23 24 25\n",
      "24 25 26 27 28 29 30      28 29 30                  26 27 28 29 30 31\n",
      "31\n",
      "\n"
     ]
    }
   ],
   "source": [
    "import calendar\n",
    "# calling the module \n",
    "# selecting the year calender that should to be displayed \n",
    "year = int(input(\"please enter the year to displayed : \"))\n",
    "print(calendar.calendar(year))"
   ]
  },
  {
   "cell_type": "markdown",
   "id": "c712873b",
   "metadata": {},
   "source": [
    "## 4.\tWrite a Python program to solve quadratic equation?"
   ]
  },
  {
   "cell_type": "code",
   "execution_count": 6,
   "id": "05ec3c79",
   "metadata": {},
   "outputs": [
    {
     "name": "stdout",
     "output_type": "stream",
     "text": [
      "please enter the value of 'a' from qua equation : 2\n",
      "please enter the value of 'b' from qua equation : 9\n",
      "please enter the value of 'c' from qua equation : 7\n",
      "The roots of the equation is (-3.5+0j) and (-1+0j)\n"
     ]
    }
   ],
   "source": [
    "## from the basics of formulas \n",
    "    ## The simple quadratic expression is in the form of  \"ax**2 + bx +c = 0\"   (readed as \"ax'square\" plus \"bx\" plus \"c\")\n",
    "## quadratic expression is used to solve and sort out for roots to the equation \n",
    "## These is done by using formula\n",
    "\n",
    "###      x = (-b ± (b ** 2 - 4 * a * c) ** 0.5) / (2 * a)  \n",
    "###      readed as \" Minus b plus and minus of \"under root of \"b square\", minus of '4ac' \".\" divided by \"2a\"\"\n",
    "\n",
    "## for the complex mathematical we have import the cmath module for finding the square root and other complex math operations.\n",
    "import cmath\n",
    "\n",
    "a = float(input(\"please enter the value of 'a' from qua equation : \"))\n",
    "b = float(input(\"please enter the value of 'b' from qua equation : \"))                \n",
    "c = float(input(\"please enter the value of 'c' from qua equation : \"))\n",
    "\n",
    "## first solving the discriminate\n",
    "d = (b**2)- (4*a*c)   ## be catious with the prantheis values may vary with extra pranthesis\n",
    "## find the roots to the equation \n",
    "solution1 = (-b-cmath.sqrt(d))/(2*a)\n",
    "solution2 = (-b+cmath.sqrt(d))/(2*a)\n",
    "print(\"The roots of the equation is {0} and {1}\".format(solution1,solution2))\n",
    "\n",
    "\n",
    "## the below example is 2x**2 + 9x + 7"
   ]
  },
  {
   "cell_type": "markdown",
   "id": "6d034639",
   "metadata": {},
   "source": [
    "## 5.\tWrite a Python program to swap two variables without temp variable?"
   ]
  },
  {
   "cell_type": "code",
   "execution_count": 7,
   "id": "b317fc32",
   "metadata": {},
   "outputs": [
    {
     "name": "stdout",
     "output_type": "stream",
     "text": [
      "enter the x value : 25\n",
      "enter the y value : 35\n",
      "value of x is 35 and value of y is 25\n"
     ]
    }
   ],
   "source": [
    "# Assiging the variable from the user input \n",
    "x = int(input(\"enter the x value : \"))\n",
    "y = int(input(\"enter the y value : \"))\n",
    "x,y = y,x\n",
    "print(\"value of x is {0} and value of y is {1}\".format(x,y))"
   ]
  },
  {
   "cell_type": "code",
   "execution_count": null,
   "id": "dd1e2f66",
   "metadata": {},
   "outputs": [],
   "source": []
  }
 ],
 "metadata": {
  "kernelspec": {
   "display_name": "Python 3 (ipykernel)",
   "language": "python",
   "name": "python3"
  },
  "language_info": {
   "codemirror_mode": {
    "name": "ipython",
    "version": 3
   },
   "file_extension": ".py",
   "mimetype": "text/x-python",
   "name": "python",
   "nbconvert_exporter": "python",
   "pygments_lexer": "ipython3",
   "version": "3.9.7"
  }
 },
 "nbformat": 4,
 "nbformat_minor": 5
}
