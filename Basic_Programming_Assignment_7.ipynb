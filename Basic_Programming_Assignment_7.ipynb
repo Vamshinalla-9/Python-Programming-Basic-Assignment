{
 "cells": [
  {
   "cell_type": "markdown",
   "id": "2f9df10c",
   "metadata": {},
   "source": [
    "### 1. Write a Python Program to find sum of array?"
   ]
  },
  {
   "cell_type": "code",
   "execution_count": 1,
   "id": "2fff9107",
   "metadata": {},
   "outputs": [
    {
     "name": "stdout",
     "output_type": "stream",
     "text": [
      "1496\n"
     ]
    }
   ],
   "source": [
    "arr  = [1,4,9,16,25,36,49,64,81,100,121,144,169,196,225,256,]\n",
    "summ = 0\n",
    "for j in range(len(arr)):\n",
    "    summ += arr[j]\n",
    "print(summ)    "
   ]
  },
  {
   "cell_type": "code",
   "execution_count": 2,
   "id": "1fb1b527",
   "metadata": {},
   "outputs": [
    {
     "data": {
      "text/plain": [
       "1496"
      ]
     },
     "execution_count": 2,
     "metadata": {},
     "output_type": "execute_result"
    }
   ],
   "source": [
    "sum(arr)"
   ]
  },
  {
   "cell_type": "markdown",
   "id": "9ad67380",
   "metadata": {},
   "source": [
    "### 2. Write a Python Program to find largest element in an array?"
   ]
  },
  {
   "cell_type": "code",
   "execution_count": 3,
   "id": "1c203b51",
   "metadata": {},
   "outputs": [
    {
     "name": "stdout",
     "output_type": "stream",
     "text": [
      "The largest element in an array is : 223\n"
     ]
    }
   ],
   "source": [
    "arr = [12,1,2,3,45,67,89,223,0,56]\n",
    "arr.sort()\n",
    "print(\"The largest element in an array is :\",arr[-1])"
   ]
  },
  {
   "cell_type": "code",
   "execution_count": 4,
   "id": "54ba7ce0",
   "metadata": {},
   "outputs": [
    {
     "name": "stdout",
     "output_type": "stream",
     "text": [
      "The largest element in an array is : 1000\n"
     ]
    }
   ],
   "source": [
    "arr = [1000,0,12,1,2,3,45,67,89,223,0,56] \n",
    "temp = arr[0]\n",
    "for i in range(len(arr)):\n",
    "    if(arr[i]>temp):\n",
    "        temp = arr[i]\n",
    "print(\"The largest element in an array is :\",temp)"
   ]
  },
  {
   "cell_type": "markdown",
   "id": "337491ab",
   "metadata": {},
   "source": [
    "### 3. Write a Python Program for array rotation?"
   ]
  },
  {
   "cell_type": "code",
   "execution_count": 5,
   "id": "e1b3c8e1",
   "metadata": {},
   "outputs": [],
   "source": [
    "arr = [1000,0,12,1,2,3,45,67,89,223,0,56]\n",
    "def left_rotation(arr,n):\n",
    "    lst = []\n",
    "    lst.extend(arr[n::])\n",
    "    lst.extend(arr[0:n])\n",
    "    return lst\n",
    "def right_rotation(arr,n):\n",
    "    lst = []\n",
    "    lst1 = arr[-n::]\n",
    "    lst.extend(lst1)\n",
    "    lst2 = arr[-n::-1]\n",
    "    lst2.reverse()\n",
    "    lst.extend(lst2)\n",
    "    return lst"
   ]
  },
  {
   "cell_type": "code",
   "execution_count": 6,
   "id": "2e09b926",
   "metadata": {},
   "outputs": [
    {
     "data": {
      "text/plain": [
       "[1, 2, 3, 45, 67, 89, 223, 0, 56, 1000, 0, 12]"
      ]
     },
     "execution_count": 6,
     "metadata": {},
     "output_type": "execute_result"
    }
   ],
   "source": [
    "left_rotation(arr,3)"
   ]
  },
  {
   "cell_type": "code",
   "execution_count": 7,
   "id": "7c694af9",
   "metadata": {},
   "outputs": [
    {
     "data": {
      "text/plain": [
       "[89, 223, 0, 56, 1000, 0, 12, 1, 2, 3, 45, 67, 89]"
      ]
     },
     "execution_count": 7,
     "metadata": {},
     "output_type": "execute_result"
    }
   ],
   "source": [
    "right_rotation(arr,4)"
   ]
  },
  {
   "cell_type": "markdown",
   "id": "d2820785",
   "metadata": {},
   "source": [
    "### 4. Write a Python Program to Split the array and add the first part to the end?"
   ]
  },
  {
   "cell_type": "code",
   "execution_count": 8,
   "id": "fda9cb88",
   "metadata": {},
   "outputs": [],
   "source": [
    "arr1 = [\"ineuron\",\"bangalore\",\"one neuron\",\"tech neuron\",\"fsds2021 november\"]"
   ]
  },
  {
   "cell_type": "code",
   "execution_count": 9,
   "id": "ea60df1a",
   "metadata": {},
   "outputs": [],
   "source": [
    "def split_add(arr,n):\n",
    "    return (arr[n::]+arr[0:n])"
   ]
  },
  {
   "cell_type": "code",
   "execution_count": 10,
   "id": "336364ba",
   "metadata": {},
   "outputs": [
    {
     "data": {
      "text/plain": [
       "['tech neuron', 'fsds2021 november', 'ineuron', 'bangalore', 'one neuron']"
      ]
     },
     "execution_count": 10,
     "metadata": {},
     "output_type": "execute_result"
    }
   ],
   "source": [
    "split_add(arr1,3)"
   ]
  },
  {
   "cell_type": "markdown",
   "id": "c5aa662f",
   "metadata": {},
   "source": [
    "### 5. Write a Python Program to check if given array is Monotonic?"
   ]
  },
  {
   "cell_type": "code",
   "execution_count": 11,
   "id": "0e8a3185",
   "metadata": {},
   "outputs": [
    {
     "name": "stdout",
     "output_type": "stream",
     "text": [
      "it is not a monotonic\n"
     ]
    }
   ],
   "source": [
    "arr1 = [11,2,3,43,5,6,7]\n",
    "if all(arr1[i] <= arr1[i+1] for i in range (len(arr1)-1)):\n",
    "    print(\"Monotonic in ascending order\")\n",
    "elif all(arr1[i] >= arr1[i+1] for i in range (len(arr1)-1)):\n",
    "    print(\"Monotonic in descending order\")\n",
    "else:\n",
    "    print(\"it is not a monotonic\")"
   ]
  },
  {
   "cell_type": "code",
   "execution_count": null,
   "id": "871511ba",
   "metadata": {},
   "outputs": [],
   "source": []
  }
 ],
 "metadata": {
  "kernelspec": {
   "display_name": "Python 3 (ipykernel)",
   "language": "python",
   "name": "python3"
  },
  "language_info": {
   "codemirror_mode": {
    "name": "ipython",
    "version": 3
   },
   "file_extension": ".py",
   "mimetype": "text/x-python",
   "name": "python",
   "nbconvert_exporter": "python",
   "pygments_lexer": "ipython3",
   "version": "3.9.7"
  }
 },
 "nbformat": 4,
 "nbformat_minor": 5
}
