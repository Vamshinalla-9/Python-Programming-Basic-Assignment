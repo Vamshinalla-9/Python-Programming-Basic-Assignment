{
 "cells": [
  {
   "cell_type": "markdown",
   "id": "a1e23004",
   "metadata": {},
   "source": [
    "### 1. Write a Python Program to Add Two Matrices?"
   ]
  },
  {
   "cell_type": "code",
   "execution_count": 1,
   "id": "be00e630",
   "metadata": {},
   "outputs": [],
   "source": [
    "import numpy as np"
   ]
  },
  {
   "cell_type": "code",
   "execution_count": 2,
   "id": "e664ea34",
   "metadata": {},
   "outputs": [],
   "source": [
    "m1 = np.matrix([[1,2,3],[4,5,6],[8,7,9]])"
   ]
  },
  {
   "cell_type": "code",
   "execution_count": 3,
   "id": "b3b6c12d",
   "metadata": {},
   "outputs": [],
   "source": [
    "m2 = np.matrix([[1,1,1],[2,2,2],[3,3,3]])"
   ]
  },
  {
   "cell_type": "code",
   "execution_count": 4,
   "id": "f89bdde2",
   "metadata": {},
   "outputs": [
    {
     "data": {
      "text/plain": [
       "matrix([[ 2,  3,  4],\n",
       "        [ 6,  7,  8],\n",
       "        [11, 10, 12]])"
      ]
     },
     "execution_count": 4,
     "metadata": {},
     "output_type": "execute_result"
    }
   ],
   "source": [
    "m1+m2"
   ]
  },
  {
   "cell_type": "code",
   "execution_count": 5,
   "id": "807c623f",
   "metadata": {},
   "outputs": [
    {
     "data": {
      "text/plain": [
       "array([[ 2,  3,  4],\n",
       "       [ 6,  7,  8],\n",
       "       [10, 11, 12]])"
      ]
     },
     "execution_count": 5,
     "metadata": {},
     "output_type": "execute_result"
    }
   ],
   "source": [
    "## method-2\n",
    "M1 = np.array([[1,2,3],[4,5,6],[7,8,9]])\n",
    "M2 = np.array([[1,1,1],[2,2,2],[3,3,3]])\n",
    "M1+M2"
   ]
  },
  {
   "cell_type": "markdown",
   "id": "8ad8af80",
   "metadata": {},
   "source": [
    "### 2. Write a Python Program to Multiply Two Matrices?"
   ]
  },
  {
   "cell_type": "code",
   "execution_count": 6,
   "id": "1857acee",
   "metadata": {},
   "outputs": [
    {
     "data": {
      "text/plain": [
       "matrix([[14, 14, 14],\n",
       "        [36, 36, 36],\n",
       "        [98, 98, 98]])"
      ]
     },
     "execution_count": 6,
     "metadata": {},
     "output_type": "execute_result"
    }
   ],
   "source": [
    "m1 = np.matrix([[1,2,3],[1,4,9],[1,8,27]])\n",
    "m2 = np.matrix([[1,1,1],[2,2,2],[3,3,3]])\n",
    "m1*m2"
   ]
  },
  {
   "cell_type": "markdown",
   "id": "d637b6ac",
   "metadata": {},
   "source": [
    "### 3. Write a Python Program to Transpose a Matrix?"
   ]
  },
  {
   "cell_type": "code",
   "execution_count": 7,
   "id": "356eec02",
   "metadata": {},
   "outputs": [],
   "source": [
    "m1 = np.matrix([[11,44,77],[22,55,88],[33,66,99]])"
   ]
  },
  {
   "cell_type": "code",
   "execution_count": 8,
   "id": "8ef47aa7",
   "metadata": {},
   "outputs": [
    {
     "data": {
      "text/plain": [
       "matrix([[11, 44, 77],\n",
       "        [22, 55, 88],\n",
       "        [33, 66, 99]])"
      ]
     },
     "execution_count": 8,
     "metadata": {},
     "output_type": "execute_result"
    }
   ],
   "source": [
    "m1"
   ]
  },
  {
   "cell_type": "code",
   "execution_count": 9,
   "id": "deb39489",
   "metadata": {},
   "outputs": [
    {
     "name": "stdout",
     "output_type": "stream",
     "text": [
      "[[11 22 33]\n",
      " [44 55 66]\n",
      " [77 88 99]]\n"
     ]
    }
   ],
   "source": [
    "### Method-1\n",
    "print(m1.transpose())"
   ]
  },
  {
   "cell_type": "code",
   "execution_count": 10,
   "id": "1e4a6c5d",
   "metadata": {},
   "outputs": [
    {
     "name": "stdout",
     "output_type": "stream",
     "text": [
      "[[11 22 33]\n",
      " [44 55 66]\n",
      " [77 88 99]]\n"
     ]
    }
   ],
   "source": [
    "### Method -2\n",
    "print(m1.T)"
   ]
  },
  {
   "cell_type": "markdown",
   "id": "97aad63c",
   "metadata": {},
   "source": [
    "### 4. Write a Python Program to Sort Words in Alphabetic Order?"
   ]
  },
  {
   "cell_type": "code",
   "execution_count": 11,
   "id": "a167d03a",
   "metadata": {},
   "outputs": [],
   "source": [
    "lst = [\"A\",\"a\",\"E\",\"f\",\"K\",\"z\",\"l\",\"d\",\"b\",\"c\"]"
   ]
  },
  {
   "cell_type": "code",
   "execution_count": 12,
   "id": "9ef3aab6",
   "metadata": {},
   "outputs": [
    {
     "data": {
      "text/plain": [
       "['A', 'E', 'K', 'a', 'b', 'c', 'd', 'f', 'l', 'z']"
      ]
     },
     "execution_count": 12,
     "metadata": {},
     "output_type": "execute_result"
    }
   ],
   "source": [
    "lst = [\"A\",\"a\",\"E\",\"f\",\"K\",\"z\",\"l\",\"d\",\"b\",\"c\"]\n",
    "s_lst = []\n",
    "for i in range(len(lst)):\n",
    "    s_lst.append(ord(lst[i]))\n",
    "s_lst.sort()\n",
    "[chr(j) for j in s_lst]"
   ]
  },
  {
   "cell_type": "code",
   "execution_count": 13,
   "id": "56e55154",
   "metadata": {},
   "outputs": [
    {
     "name": "stdout",
     "output_type": "stream",
     "text": [
      "['data', 'full', 'krishna', 'nalla', 'science', 'stack', 'vamshi']\n"
     ]
    }
   ],
   "source": [
    "s = \"Vamshi nalla krishna full Stack Data science\"\n",
    "new_sort = s.lower().split(\" \")\n",
    "new_sort.sort()\n",
    "print(new_sort)"
   ]
  },
  {
   "cell_type": "markdown",
   "id": "516175ad",
   "metadata": {},
   "source": [
    "### 5. Write a Python Program to Remove Punctuation From a String?"
   ]
  },
  {
   "cell_type": "code",
   "execution_count": 14,
   "id": "caa618b1",
   "metadata": {},
   "outputs": [
    {
     "name": "stdout",
     "output_type": "stream",
     "text": [
      "Please enter only string input ::Ineuron***!@#$%^& krish$$naik!!!! Sudhanshu(((::\n",
      "The new string after removing punctuations :::: \n",
      " Ineuron krishnaik Sudhanshu\n"
     ]
    }
   ],
   "source": [
    "User_input = str(input(\"Please enter only string input ::\"))\n",
    "punctuations = \"\"\"!()-[]{};:'\"\\,<>./?@#$%^&*_~\"\"\"\n",
    "final_string = ''\n",
    "for character in User_input:\n",
    "    if character not in punctuations:\n",
    "        final_string+=character\n",
    "print(\"The new string after removing punctuations :::: \\n\",final_string)"
   ]
  }
 ],
 "metadata": {
  "kernelspec": {
   "display_name": "Python 3 (ipykernel)",
   "language": "python",
   "name": "python3"
  },
  "language_info": {
   "codemirror_mode": {
    "name": "ipython",
    "version": 3
   },
   "file_extension": ".py",
   "mimetype": "text/x-python",
   "name": "python",
   "nbconvert_exporter": "python",
   "pygments_lexer": "ipython3",
   "version": "3.9.7"
  }
 },
 "nbformat": 4,
 "nbformat_minor": 5
}
