{
 "cells": [
  {
   "cell_type": "markdown",
   "id": "eb5fbdfe",
   "metadata": {},
   "source": [
    "###  1.\tWrite a Python program to print \"Hello Python\"?\n",
    "\n",
    "#### Answer:-"
   ]
  },
  {
   "cell_type": "code",
   "execution_count": 1,
   "id": "4417e0a3",
   "metadata": {},
   "outputs": [
    {
     "name": "stdout",
     "output_type": "stream",
     "text": [
      "Hello Python\n"
     ]
    }
   ],
   "source": [
    "print(\"Hello Python\")"
   ]
  },
  {
   "cell_type": "markdown",
   "id": "d2057439",
   "metadata": {},
   "source": [
    "### 2.\tWrite a Python program to do arithmetical operations addition and division.?\n",
    "\n",
    "#### Answer:-"
   ]
  },
  {
   "cell_type": "code",
   "execution_count": 2,
   "id": "e347587f",
   "metadata": {},
   "outputs": [
    {
     "name": "stdout",
     "output_type": "stream",
     "text": [
      "enter the first number25\n",
      "enter the second number3.67\n",
      "28.67\n",
      "6.8119891008174385\n"
     ]
    }
   ],
   "source": [
    "# addition and division programming with aritmetical operations\n",
    "num1 = input('enter the first number')\n",
    "num2 = input('enter the second number')\n",
    "\n",
    "added_number = float(num1) + float(num2)\n",
    "division_number= float(num1)/float(num2)\n",
    "\n",
    "print(added_number)\n",
    "print(division_number)"
   ]
  },
  {
   "cell_type": "markdown",
   "id": "cab82a4a",
   "metadata": {},
   "source": [
    "### 3.\tWrite a Python program to find the area of a triangle?\n",
    "\n",
    "#### Answer:-"
   ]
  },
  {
   "cell_type": "code",
   "execution_count": 3,
   "id": "f38f9cd9",
   "metadata": {},
   "outputs": [
    {
     "name": "stdout",
     "output_type": "stream",
     "text": [
      "please enter the any one side of the triangle :  10\n",
      "please enter any another side of the triangle :  10\n",
      "please enter the last side of the triangle : 10\n",
      "area of the triangle is  43.30127018922193\n"
     ]
    }
   ],
   "source": [
    "# Formula for area of a triangle is (\"1/2 * base * height\" or \"(b*h)/2\") in real formula for academic test books. \n",
    "# there is another formula for the area of a triangle for the advanced version problem to programming language and complex triangle problems.\n",
    "# step 1: find the semi perimeter of the triangle, formula given by  let s = (a + b + c)/2 \n",
    "#         where a,b and c are the three sides of the triangles\n",
    "\n",
    "# step 2: know the area of the triangle is given area = (s*(s-a)*(s-b)*(s-c))**0.5 or square root(s*(s-a)*(s-b)*(s-c))\n",
    " \n",
    "\n",
    "A = float(input(\"please enter the any one side of the triangle :  \"))\n",
    "B = float(input(\"please enter any another side of the triangle :  \"))\n",
    "C = float(input(\"please enter the last side of the triangle : \"))\n",
    "\n",
    "s = (A+B+C)/2  # where s is the semi perimeter of triangle\n",
    "Area = (s*(s-A)*(s-B)*(s-C))**0.5\n",
    "\n",
    "\n",
    "print(\"area of the triangle is \",Area)"
   ]
  },
  {
   "cell_type": "markdown",
   "id": "7887ff66",
   "metadata": {},
   "source": [
    "### 4.\tWrite a Python program to swap two variables?\n",
    "\n",
    "#### Answer:-\n"
   ]
  },
  {
   "cell_type": "code",
   "execution_count": 4,
   "id": "70c771b9",
   "metadata": {},
   "outputs": [
    {
     "name": "stdout",
     "output_type": "stream",
     "text": [
      "25\n",
      "30\n",
      "value of var1 is  30\n",
      "value of var2 is  25\n"
     ]
    }
   ],
   "source": [
    "# Method 1\n",
    "var1 = input()\n",
    "var2= input()\n",
    "\n",
    "var1,var2 = var2,var1\n",
    "\n",
    "print(\"value of var1 is \", var1)\n",
    "print(\"value of var2 is \", var2)\n",
    "\n"
   ]
  },
  {
   "cell_type": "code",
   "execution_count": 5,
   "id": "afc01408",
   "metadata": {},
   "outputs": [
    {
     "name": "stdout",
     "output_type": "stream",
     "text": [
      "25\n",
      "30\n",
      "value of a 30\n",
      "value of b 25\n"
     ]
    }
   ],
   "source": [
    "# Method 2\n",
    "\n",
    "a = input()\n",
    "b = input()\n",
    "\n",
    "c = a \n",
    "a = b\n",
    "b = c\n",
    "print(\"value of a\",a)\n",
    "print(\"value of b\",b)"
   ]
  },
  {
   "cell_type": "markdown",
   "id": "f6ea144f",
   "metadata": {},
   "source": [
    "### 5.\tWrite a Python program to generate a random number?\n",
    "\n",
    "#### Answer:-"
   ]
  },
  {
   "cell_type": "code",
   "execution_count": 6,
   "id": "0bc54e14",
   "metadata": {},
   "outputs": [
    {
     "name": "stdout",
     "output_type": "stream",
     "text": [
      "4\n"
     ]
    }
   ],
   "source": [
    "# so inorder to generate the random number from any list, tuples of range there is special inbuilt module called \"random\"\n",
    "# In these module there is special function called choice() which picks the random values from the list.\n",
    "# in case if we want to print any random numbers form any list,string,tuple we have to import the random module.\n",
    "# we must declare tuple,list or string before we need to generate the random number or value.\n",
    "\n",
    "\n",
    "#method -1\n",
    "# print the random number from the list\n",
    "import random\n",
    "list = [1,2,3,4,5,6,7,8,]\n",
    "print(random.choice(list))\n"
   ]
  },
  {
   "cell_type": "code",
   "execution_count": 7,
   "id": "95be103a",
   "metadata": {},
   "outputs": [
    {
     "name": "stdout",
     "output_type": "stream",
     "text": [
      "s\n"
     ]
    }
   ],
   "source": [
    "#method - 2 \n",
    "# printing the random char from the string\n",
    "string = \"vamshi\"\n",
    "print(random.choice(string))"
   ]
  }
 ],
 "metadata": {
  "kernelspec": {
   "display_name": "Python 3",
   "language": "python",
   "name": "python3"
  },
  "language_info": {
   "codemirror_mode": {
    "name": "ipython",
    "version": 3
   },
   "file_extension": ".py",
   "mimetype": "text/x-python",
   "name": "python",
   "nbconvert_exporter": "python",
   "pygments_lexer": "ipython3",
   "version": "3.8.8"
  }
 },
 "nbformat": 4,
 "nbformat_minor": 5
}
